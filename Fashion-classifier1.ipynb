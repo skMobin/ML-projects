{
 "cells": [
  {
   "cell_type": "code",
   "execution_count": 1,
   "metadata": {},
   "outputs": [],
   "source": [
    "import pandas as pd\n",
    "import numpy as np\n",
    "from matplotlib import pyplot as plt\n",
    "import seaborn as sns"
   ]
  },
  {
   "cell_type": "code",
   "execution_count": 7,
   "metadata": {},
   "outputs": [],
   "source": [
    "fashion_train = pd.read_csv('D:/GH/fashion-mnist_train.csv',sep = ',')"
   ]
  },
  {
   "cell_type": "code",
   "execution_count": 8,
   "metadata": {},
   "outputs": [],
   "source": [
    "fashion_test = pd.read_csv('D:/GH/fashion-mnist_test.csv',sep = ',')"
   ]
  },
  {
   "cell_type": "code",
   "execution_count": 10,
   "metadata": {},
   "outputs": [
    {
     "data": {
      "text/plain": [
       "(10000, 785)"
      ]
     },
     "execution_count": 10,
     "metadata": {},
     "output_type": "execute_result"
    }
   ],
   "source": [
    "fashion_test.shape"
   ]
  },
  {
   "cell_type": "code",
   "execution_count": 11,
   "metadata": {},
   "outputs": [],
   "source": [
    "training = np.array(fashion_train)"
   ]
  },
  {
   "cell_type": "code",
   "execution_count": 12,
   "metadata": {},
   "outputs": [],
   "source": [
    "testing= np.array(fashion_test)"
   ]
  },
  {
   "cell_type": "code",
   "execution_count": 16,
   "metadata": {},
   "outputs": [
    {
     "data": {
      "text/plain": [
       "array([[0, 0, 0, ..., 0, 0, 0],\n",
       "       [1, 0, 0, ..., 0, 0, 0],\n",
       "       [2, 0, 0, ..., 0, 0, 0],\n",
       "       ...,\n",
       "       [8, 0, 0, ..., 0, 1, 0],\n",
       "       [8, 0, 1, ..., 0, 0, 0],\n",
       "       [1, 0, 0, ..., 0, 0, 0]], dtype=int64)"
      ]
     },
     "execution_count": 16,
     "metadata": {},
     "output_type": "execute_result"
    }
   ],
   "source": [
    "testing"
   ]
  },
  {
   "cell_type": "code",
   "execution_count": 17,
   "metadata": {
    "scrolled": true
   },
   "outputs": [
    {
     "data": {
      "text/plain": [
       "2"
      ]
     },
     "execution_count": 17,
     "metadata": {},
     "output_type": "execute_result"
    },
    {
     "data": {
      "image/png": "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\n",
      "text/plain": [
       "<Figure size 432x288 with 1 Axes>"
      ]
     },
     "metadata": {
      "needs_background": "light"
     },
     "output_type": "display_data"
    }
   ],
   "source": [
    "import random\n",
    "i= random.randint(1,40000)\n",
    "plt.imshow(training[i,1:].reshape(28,28))\n",
    "label = training[i,0]\n",
    "label"
   ]
  },
  {
   "cell_type": "code",
   "execution_count": null,
   "metadata": {},
   "outputs": [],
   "source": [
    "# 0 T-shirt/top\n",
    "# 1 Trouser\n",
    "# 2 Pullover\n",
    "# 3 Dress\n",
    "# 4 Coat\n",
    "# 5 Sandal\n",
    "# 6 Shirt\n",
    "# 7 Sneaker\n",
    "# 8 Bag\n",
    "# 9 Ankle boot"
   ]
  },
  {
   "cell_type": "code",
   "execution_count": 31,
   "metadata": {},
   "outputs": [],
   "source": [
    "X_train = training[:,1:]\n",
    "y_train = training[:,0]"
   ]
  },
  {
   "cell_type": "code",
   "execution_count": 32,
   "metadata": {},
   "outputs": [],
   "source": [
    "X_test = testing[:,1:]\n",
    "y_test = testing[:,0]"
   ]
  },
  {
   "cell_type": "code",
   "execution_count": 33,
   "metadata": {},
   "outputs": [
    {
     "data": {
      "text/plain": [
       "(10000, 784)"
      ]
     },
     "execution_count": 33,
     "metadata": {},
     "output_type": "execute_result"
    }
   ],
   "source": [
    "X_test.shape"
   ]
  },
  {
   "cell_type": "code",
   "execution_count": 34,
   "metadata": {},
   "outputs": [],
   "source": [
    "from sklearn.model_selection import train_test_split"
   ]
  },
  {
   "cell_type": "code",
   "execution_count": 35,
   "metadata": {},
   "outputs": [],
   "source": [
    "X_train,X_validate,y_train,y_validate = train_test_split(X_train, y_train,test_size = 0.2, random_state = 12345)"
   ]
  },
  {
   "cell_type": "code",
   "execution_count": 36,
   "metadata": {},
   "outputs": [],
   "source": [
    "X_train = X_train.reshape(X_train.shape[0], *(28,28,1))\n",
    "X_test = X_test.reshape(X_test.shape[0],*(28,28,1))\n",
    "X_validate = X_validate.reshape(X_validate.shape[0],*(28,28,1))"
   ]
  },
  {
   "cell_type": "code",
   "execution_count": 37,
   "metadata": {},
   "outputs": [
    {
     "name": "stderr",
     "output_type": "stream",
     "text": [
      "Using TensorFlow backend.\n"
     ]
    }
   ],
   "source": [
    "\n",
    "import keras\n",
    "from keras.models import Sequential\n",
    "from keras.layers import Conv2D, MaxPooling2D, Dense, Flatten, Dropout\n",
    "from keras.optimizers import Adam\n",
    "from keras.callbacks import TensorBoard"
   ]
  },
  {
   "cell_type": "code",
   "execution_count": 38,
   "metadata": {},
   "outputs": [],
   "source": [
    "cnn_model = Sequential()"
   ]
  },
  {
   "cell_type": "code",
   "execution_count": 39,
   "metadata": {},
   "outputs": [
    {
     "name": "stdout",
     "output_type": "stream",
     "text": [
      "WARNING:tensorflow:From C:\\Users\\Sk Mobin\\AppData\\Roaming\\Python\\Python37\\site-packages\\tensorflow\\python\\framework\\op_def_library.py:263: colocate_with (from tensorflow.python.framework.ops) is deprecated and will be removed in a future version.\n",
      "Instructions for updating:\n",
      "Colocations handled automatically by placer.\n"
     ]
    },
    {
     "name": "stderr",
     "output_type": "stream",
     "text": [
      "C:\\Users\\Sk Mobin\\Anaconda3\\lib\\site-packages\\ipykernel_launcher.py:1: UserWarning: Update your `Conv2D` call to the Keras 2 API: `Conv2D(32, (3, 3), input_shape=(28, 28, 1..., activation=\"relu\")`\n",
      "  \"\"\"Entry point for launching an IPython kernel.\n"
     ]
    }
   ],
   "source": [
    "cnn_model.add(Conv2D(32,3,3, input_shape = (28,28,1),activation = 'relu'))"
   ]
  },
  {
   "cell_type": "code",
   "execution_count": 40,
   "metadata": {},
   "outputs": [],
   "source": [
    "cnn_model.add(MaxPooling2D(pool_size=(2,2)))"
   ]
  },
  {
   "cell_type": "code",
   "execution_count": 41,
   "metadata": {},
   "outputs": [],
   "source": [
    "cnn_model.add(Flatten())"
   ]
  },
  {
   "cell_type": "code",
   "execution_count": 42,
   "metadata": {},
   "outputs": [
    {
     "name": "stderr",
     "output_type": "stream",
     "text": [
      "C:\\Users\\Sk Mobin\\Anaconda3\\lib\\site-packages\\ipykernel_launcher.py:1: UserWarning: Update your `Dense` call to the Keras 2 API: `Dense(activation=\"relu\", units=32)`\n",
      "  \"\"\"Entry point for launching an IPython kernel.\n"
     ]
    }
   ],
   "source": [
    "cnn_model.add(Dense(output_dim = 32, activation = 'relu' ))"
   ]
  },
  {
   "cell_type": "code",
   "execution_count": 43,
   "metadata": {},
   "outputs": [
    {
     "name": "stderr",
     "output_type": "stream",
     "text": [
      "C:\\Users\\Sk Mobin\\Anaconda3\\lib\\site-packages\\ipykernel_launcher.py:1: UserWarning: Update your `Dense` call to the Keras 2 API: `Dense(activation=\"sigmoid\", units=10)`\n",
      "  \"\"\"Entry point for launching an IPython kernel.\n"
     ]
    }
   ],
   "source": [
    "cnn_model.add(Dense(output_dim = 10, activation = 'sigmoid' ))"
   ]
  },
  {
   "cell_type": "code",
   "execution_count": 45,
   "metadata": {},
   "outputs": [],
   "source": [
    "cnn_model.compile(loss = 'sparse_categorical_crossentropy', optimizer = Adam(lr=0.001),metrics =['accuracy'])"
   ]
  },
  {
   "cell_type": "code",
   "execution_count": 77,
   "metadata": {},
   "outputs": [
    {
     "name": "stdout",
     "output_type": "stream",
     "text": [
      "Train on 48000 samples, validate on 12000 samples\n",
      "Epoch 1/50\n",
      "48000/48000 [==============================] - 25s 513us/step - loss: 0.1709 - acc: 0.9306 - val_loss: 0.3454 - val_acc: 0.8955oss: \n",
      "Epoch 2/50\n",
      "48000/48000 [==============================] - 25s 515us/step - loss: 0.1563 - acc: 0.9351 - val_loss: 0.3546 - val_acc: 0.8979\n",
      "Epoch 3/50\n",
      "48000/48000 [==============================] - 25s 514us/step - loss: 0.1462 - acc: 0.9386 - val_loss: 0.3731 - val_acc: 0.8962\n",
      "Epoch 4/50\n",
      "48000/48000 [==============================] - 25s 518us/step - loss: 0.1427 - acc: 0.9403 - val_loss: 0.3761 - val_acc: 0.8981\n",
      "Epoch 5/50\n",
      "48000/48000 [==============================] - 25s 524us/step - loss: 0.1294 - acc: 0.9454 - val_loss: 0.4130 - val_acc: 0.8968\n",
      "Epoch 6/50\n",
      "48000/48000 [==============================] - 25s 516us/step - loss: 0.1245 - acc: 0.9476 - val_loss: 0.4066 - val_acc: 0.8981\n",
      "Epoch 7/50\n",
      "48000/48000 [==============================] - 25s 520us/step - loss: 0.1197 - acc: 0.9493 - val_loss: 0.3980 - val_acc: 0.8983\n",
      "Epoch 8/50\n",
      "48000/48000 [==============================] - 25s 519us/step - loss: 0.1104 - acc: 0.9521 - val_loss: 0.4404 - val_acc: 0.8957\n",
      "Epoch 9/50\n",
      "48000/48000 [==============================] - 25s 522us/step - loss: 0.1065 - acc: 0.9534 - val_loss: 0.4240 - val_acc: 0.8984\n",
      "Epoch 10/50\n",
      "48000/48000 [==============================] - 25s 521us/step - loss: 0.1058 - acc: 0.9537 - val_loss: 0.4436 - val_acc: 0.8931\n",
      "Epoch 11/50\n",
      "48000/48000 [==============================] - 25s 520us/step - loss: 0.1029 - acc: 0.9558 - val_loss: 0.4584 - val_acc: 0.8960acc: 0.9\n",
      "Epoch 12/50\n",
      "48000/48000 [==============================] - 25s 523us/step - loss: 0.0970 - acc: 0.9568 - val_loss: 0.4597 - val_acc: 0.8977\n",
      "Epoch 13/50\n",
      "48000/48000 [==============================] - 25s 522us/step - loss: 0.0918 - acc: 0.9581 - val_loss: 0.4919 - val_acc: 0.8949\n",
      "Epoch 14/50\n",
      "48000/48000 [==============================] - 25s 519us/step - loss: 0.0895 - acc: 0.9605 - val_loss: 0.4952 - val_acc: 0.8972\n",
      "Epoch 15/50\n",
      "48000/48000 [==============================] - 25s 520us/step - loss: 0.0880 - acc: 0.9613 - val_loss: 0.4989 - val_acc: 0.8981\n",
      "Epoch 16/50\n",
      "48000/48000 [==============================] - 25s 516us/step - loss: 0.0767 - acc: 0.9647 - val_loss: 0.5283 - val_acc: 0.8923\n",
      "Epoch 17/50\n",
      "48000/48000 [==============================] - 25s 520us/step - loss: 0.0767 - acc: 0.9640 - val_loss: 0.5169 - val_acc: 0.89450.07 - ETA: 0s - loss: 0.0764 - acc: 0.96\n",
      "Epoch 18/50\n",
      "48000/48000 [==============================] - 25s 524us/step - loss: 0.0787 - acc: 0.9644 - val_loss: 0.5467 - val_acc: 0.8954\n",
      "Epoch 19/50\n",
      "48000/48000 [==============================] - 25s 518us/step - loss: 0.0747 - acc: 0.9648 - val_loss: 0.5508 - val_acc: 0.8965\n",
      "Epoch 20/50\n",
      "48000/48000 [==============================] - 24s 491us/step - loss: 0.0746 - acc: 0.9658 - val_loss: 0.5695 - val_acc: 0.8952\n",
      "Epoch 21/50\n",
      "48000/48000 [==============================] - 24s 495us/step - loss: 0.0752 - acc: 0.9655 - val_loss: 0.5520 - val_acc: 0.8958\n",
      "Epoch 22/50\n",
      "48000/48000 [==============================] - 24s 495us/step - loss: 0.0694 - acc: 0.9672 - val_loss: 0.5669 - val_acc: 0.89580s - loss: 0.0694 - acc:\n",
      "Epoch 23/50\n",
      "48000/48000 [==============================] - 24s 501us/step - loss: 0.0665 - acc: 0.9688 - val_loss: 0.5816 - val_acc: 0.8946\n",
      "Epoch 24/50\n",
      "48000/48000 [==============================] - 24s 490us/step - loss: 0.0651 - acc: 0.9683 - val_loss: 0.5875 - val_acc: 0.8963\n",
      "Epoch 25/50\n",
      "48000/48000 [==============================] - 25s 512us/step - loss: 0.0623 - acc: 0.9705 - val_loss: 0.5812 - val_acc: 0.8979\n",
      "Epoch 26/50\n",
      "48000/48000 [==============================] - 25s 511us/step - loss: 0.0609 - acc: 0.9709 - val_loss: 0.5954 - val_acc: 0.8958\n",
      "Epoch 27/50\n",
      "48000/48000 [==============================] - 24s 506us/step - loss: 0.0630 - acc: 0.9705 - val_loss: 0.6031 - val_acc: 0.8922\n",
      "Epoch 28/50\n",
      "48000/48000 [==============================] - 25s 519us/step - loss: 0.0618 - acc: 0.9708 - val_loss: 0.5805 - val_acc: 0.8940- los - ET\n",
      "Epoch 29/50\n",
      "48000/48000 [==============================] - 25s 518us/step - loss: 0.0623 - acc: 0.9706 - val_loss: 0.6297 - val_acc: 0.8928 0s - loss: 0.0617 - ac\n",
      "Epoch 30/50\n",
      "48000/48000 [==============================] - 25s 512us/step - loss: 0.0606 - acc: 0.9708 - val_loss: 0.6176 - val_acc: 0.8955\n",
      "Epoch 31/50\n",
      "48000/48000 [==============================] - 24s 510us/step - loss: 0.0552 - acc: 0.9725 - val_loss: 0.6147 - val_acc: 0.89570s - loss: 0.0554 - ac\n",
      "Epoch 32/50\n",
      "48000/48000 [==============================] - 25s 513us/step - loss: 0.0505 - acc: 0.9742 - val_loss: 0.6248 - val_acc: 0.8967\n",
      "Epoch 33/50\n",
      "48000/48000 [==============================] - 25s 520us/step - loss: 0.0516 - acc: 0.9744 - val_loss: 0.6526 - val_acc: 0.8958 - loss: 0.05 - ETA: 0s - loss: 0.0516 - acc: 0.\n",
      "Epoch 34/50\n",
      "48000/48000 [==============================] - 25s 514us/step - loss: 0.0519 - acc: 0.9744 - val_loss: 0.6537 - val_acc: 0.8943\n",
      "Epoch 35/50\n",
      "48000/48000 [==============================] - 25s 514us/step - loss: 0.0556 - acc: 0.9742 - val_loss: 0.6626 - val_acc: 0.8947\n",
      "Epoch 36/50\n",
      "48000/48000 [==============================] - 25s 511us/step - loss: 0.0505 - acc: 0.9750 - val_loss: 0.6400 - val_acc: 0.89550\n",
      "Epoch 37/50\n",
      "48000/48000 [==============================] - 24s 499us/step - loss: 0.0542 - acc: 0.9740 - val_loss: 0.6773 - val_acc: 0.8930\n",
      "Epoch 38/50\n",
      "48000/48000 [==============================] - 24s 508us/step - loss: 0.0573 - acc: 0.9728 - val_loss: 0.6763 - val_acc: 0.8952\n",
      "Epoch 39/50\n",
      "48000/48000 [==============================] - 24s 510us/step - loss: 0.0480 - acc: 0.9758 - val_loss: 0.6897 - val_acc: 0.8949\n",
      "Epoch 40/50\n",
      "48000/48000 [==============================] - 24s 509us/step - loss: 0.0445 - acc: 0.9774 - val_loss: 0.6598 - val_acc: 0.8961oss: 0.0446 - acc: 0.977\n",
      "Epoch 41/50\n",
      "48000/48000 [==============================] - 24s 509us/step - loss: 0.0422 - acc: 0.9780 - val_loss: 0.6771 - val_acc: 0.8955\n",
      "Epoch 42/50\n",
      "48000/48000 [==============================] - 24s 507us/step - loss: 0.0483 - acc: 0.9763 - val_loss: 0.6890 - val_acc: 0.8883\n",
      "Epoch 43/50\n",
      "48000/48000 [==============================] - 24s 505us/step - loss: 0.0510 - acc: 0.9754 - val_loss: 0.6951 - val_acc: 0.8922 ETA: 1s - loss\n",
      "Epoch 44/50\n",
      "48000/48000 [==============================] - 24s 509us/step - loss: 0.0418 - acc: 0.9786 - val_loss: 0.6926 - val_acc: 0.8938\n",
      "Epoch 45/50\n",
      "48000/48000 [==============================] - 24s 505us/step - loss: 0.0491 - acc: 0.9766 - val_loss: 0.6793 - val_acc: 0.8960\n",
      "Epoch 46/50\n",
      "48000/48000 [==============================] - 25s 513us/step - loss: 0.0449 - acc: 0.9786 - val_loss: 0.6749 - val_acc: 0.8958TA: 1s \n",
      "Epoch 47/50\n",
      "48000/48000 [==============================] - 23s 484us/step - loss: 0.0428 - acc: 0.9791 - val_loss: 0.6911 - val_acc: 0.8958\n",
      "Epoch 48/50\n",
      "48000/48000 [==============================] - 23s 483us/step - loss: 0.0515 - acc: 0.9765 - val_loss: 0.6890 - val_acc: 0.8904\n",
      "Epoch 49/50\n",
      "48000/48000 [==============================] - 23s 479us/step - loss: 0.0451 - acc: 0.9785 - val_loss: 0.7046 - val_acc: 0.8960\n",
      "Epoch 50/50\n",
      "48000/48000 [==============================] - 23s 480us/step - loss: 0.0482 - acc: 0.9773 - val_loss: 0.7217 - val_acc: 0.8908\n"
     ]
    },
    {
     "data": {
      "text/plain": [
       "<keras.callbacks.History at 0x12a014391d0>"
      ]
     },
     "execution_count": 77,
     "metadata": {},
     "output_type": "execute_result"
    }
   ],
   "source": [
    "cnn_model.fit(\n",
    "    X_train, y_train, batch_size=128,\n",
    "    epochs=50, verbose=1,\n",
    "    validation_data=(X_validate, y_validate))"
   ]
  },
  {
   "cell_type": "code",
   "execution_count": 78,
   "metadata": {},
   "outputs": [
    {
     "name": "stdout",
     "output_type": "stream",
     "text": [
      "10000/10000 [==============================] - 1s 96us/step\n",
      " 0.894\n"
     ]
    }
   ],
   "source": [
    "evaluation = cnn_model.evaluate(X_test, y_test)\n",
    "print('{: .3f}'.format(evaluation[1]))"
   ]
  },
  {
   "cell_type": "code",
   "execution_count": 79,
   "metadata": {},
   "outputs": [],
   "source": [
    "predicted_classes = cnn_model.predict_classes(X_test)"
   ]
  },
  {
   "cell_type": "code",
   "execution_count": 80,
   "metadata": {},
   "outputs": [
    {
     "data": {
      "text/plain": [
       "array([0, 1, 2, ..., 8, 8, 1], dtype=int64)"
      ]
     },
     "execution_count": 80,
     "metadata": {},
     "output_type": "execute_result"
    }
   ],
   "source": [
    "predicted_classes"
   ]
  },
  {
   "cell_type": "code",
   "execution_count": 81,
   "metadata": {},
   "outputs": [
    {
     "data": {
      "text/plain": [
       "<matplotlib.axes._subplots.AxesSubplot at 0x12a015974e0>"
      ]
     },
     "execution_count": 81,
     "metadata": {},
     "output_type": "execute_result"
    },
    {
     "data": {
      "image/png": "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\n",
      "text/plain": [
       "<Figure size 1008x720 with 2 Axes>"
      ]
     },
     "metadata": {
      "needs_background": "light"
     },
     "output_type": "display_data"
    }
   ],
   "source": [
    "from sklearn.metrics import confusion_matrix\n",
    "cm = confusion_matrix(y_test,predicted_classes)\n",
    "plt.figure(figsize = (14,10))\n",
    "sns.heatmap(cm, annot= True)"
   ]
  },
  {
   "cell_type": "code",
   "execution_count": 85,
   "metadata": {},
   "outputs": [],
   "source": [
    "import numpy as np\n",
    "import cv2\n",
    "image = cv2.imread(r'D:\\SM\\MP\\project\\tshirt-img\\pullover1.jpg', 0)\n",
    "res = cv2.resize(image, dsize=(28, 28), interpolation=cv2.INTER_CUBIC)\n",
    "res=res.reshape(1,28,28,1)"
   ]
  },
  {
   "cell_type": "code",
   "execution_count": 86,
   "metadata": {
    "scrolled": true
   },
   "outputs": [
    {
     "data": {
      "text/plain": [
       "array([2], dtype=int64)"
      ]
     },
     "execution_count": 86,
     "metadata": {},
     "output_type": "execute_result"
    }
   ],
   "source": [
    "cnn_model.predict_classes(res)"
   ]
  },
  {
   "cell_type": "code",
   "execution_count": null,
   "metadata": {},
   "outputs": [],
   "source": []
  },
  {
   "cell_type": "code",
   "execution_count": null,
   "metadata": {},
   "outputs": [],
   "source": []
  },
  {
   "cell_type": "code",
   "execution_count": null,
   "metadata": {},
   "outputs": [],
   "source": []
  },
  {
   "cell_type": "code",
   "execution_count": null,
   "metadata": {},
   "outputs": [],
   "source": []
  }
 ],
 "metadata": {
  "kernelspec": {
   "display_name": "Python 3",
   "language": "python",
   "name": "python3"
  },
  "language_info": {
   "codemirror_mode": {
    "name": "ipython",
    "version": 3
   },
   "file_extension": ".py",
   "mimetype": "text/x-python",
   "name": "python",
   "nbconvert_exporter": "python",
   "pygments_lexer": "ipython3",
   "version": "3.7.1"
  }
 },
 "nbformat": 4,
 "nbformat_minor": 2
}
#sss